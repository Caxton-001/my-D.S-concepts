{
  "metadata": {
    "kernelspec": {
      "name": "python",
      "display_name": "Pyolite",
      "language": "python"
    },
    "language_info": {
      "codemirror_mode": {
        "name": "ipython",
        "version": 3
      },
      "file_extension": ".py",
      "mimetype": "text/x-python",
      "name": "python",
      "nbconvert_exporter": "python",
      "pygments_lexer": "ipython3",
      "version": "3.7.6"
    },
    "toc-autonumbering": true
  },
  "nbformat_minor": 4,
  "nbformat": 4,
  "cells": [
    {
      "cell_type": "markdown",
      "source": "<center>\n    <img src=\"https://cf-courses-data.s3.us.cloud-object-storage.appdomain.cloud/IBMDeveloperSkillsNetwork-DS0105EN-SkillsNetwork/labs/Module2/images/SN_web_lightmode.png\" width=\"300\" alt=\"cognitiveclass.ai logo\"  />\n</center>\n",
      "metadata": {}
    },
    {
      "cell_type": "markdown",
      "source": "#### Add your code below following the instructions given in the course\n",
      "metadata": {}
    },
    {
      "cell_type": "markdown",
      "source": "**My Jupyter Notebook on IBM Watson Studio**",
      "metadata": {}
    },
    {
      "cell_type": "markdown",
      "source": "**Caxton Mulondo**",
      "metadata": {}
    },
    {
      "cell_type": "markdown",
      "source": "I am interested in Data Science because of my curiosity in data and the value it holds. When i know this i can get insights to help businesses perform well.\nI also want to help contribute towards quality health care, water and pollution reduction.",
      "metadata": {}
    },
    {
      "cell_type": "markdown",
      "source": "**The code below should print \"1+1\"**",
      "metadata": {}
    },
    {
      "cell_type": "code",
      "source": "print('Bravo Caxton! You are doing great!')",
      "metadata": {
        "trusted": true
      },
      "execution_count": 7,
      "outputs": [
        {
          "name": "stdout",
          "text": "Bravo Caxton! You are doing great!\n",
          "output_type": "stream"
        }
      ]
    },
    {
      "cell_type": "code",
      "source": "",
      "metadata": {},
      "execution_count": null,
      "outputs": []
    }
  ]
}